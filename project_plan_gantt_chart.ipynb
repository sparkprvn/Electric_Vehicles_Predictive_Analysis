{
  "nbformat": 4,
  "nbformat_minor": 0,
  "metadata": {
    "colab": {
      "name": "project_plan_gantt_chart.ipynb",
      "provenance": [],
      "authorship_tag": "ABX9TyPPBLWVE/5CKr02u/5FUPr6",
      "include_colab_link": true
    },
    "kernelspec": {
      "name": "python3",
      "display_name": "Python 3"
    },
    "language_info": {
      "name": "python"
    }
  },
  "cells": [
    {
      "cell_type": "markdown",
      "metadata": {
        "id": "view-in-github",
        "colab_type": "text"
      },
      "source": [
        "<a href=\"https://colab.research.google.com/github/sparkprvn/Electric_Vehicles_Predictive_Analysis/blob/main/project_plan_gantt_chart.ipynb\" target=\"_parent\"><img src=\"https://colab.research.google.com/assets/colab-badge.svg\" alt=\"Open In Colab\"/></a>"
      ]
    },
    {
      "cell_type": "code",
      "execution_count": null,
      "metadata": {
        "id": "p0a7_WfPbLQ8"
      },
      "outputs": [],
      "source": [
        "# This python file is to create a gantt chart for the project planning. \n"
      ]
    }
  ]
}