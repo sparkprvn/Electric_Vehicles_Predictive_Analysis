{
  "cells": [
    {
      "cell_type": "code",
      "execution_count": 2,
      "id": "a864447e",
      "metadata": {
        "id": "a864447e"
      },
      "outputs": [],
      "source": [
        "import pandas as pd"
      ]
    },
    {
      "cell_type": "code",
      "execution_count": 5,
      "id": "58fa4dba",
      "metadata": {
        "id": "58fa4dba"
      },
      "outputs": [],
      "source": [
        "wb_energy_stats_df = pd.read_csv(\"/content/Energy_availability_WB.csv\")"
      ]
    },
    {
      "cell_type": "code",
      "execution_count": 6,
      "id": "41ba37f6",
      "metadata": {
        "colab": {
          "base_uri": "https://localhost:8080/"
        },
        "id": "41ba37f6",
        "outputId": "196aa7d5-b3c2-4ef7-fed8-8d0e097e8f75"
      },
      "outputs": [
        {
          "output_type": "execute_result",
          "data": {
            "text/plain": [
              "Index(['Country Name', 'Country Code', 'Indicator Name', 'Indicator Code',\n",
              "       '1960', '1961', '1962', '1963', '1964', '1965', '1966', '1967', '1968',\n",
              "       '1969', '1970', '1971', '1972', '1973', '1974', '1975', '1976', '1977',\n",
              "       '1978', '1979', '1980', '1981', '1982', '1983', '1984', '1985', '1986',\n",
              "       '1987', '1988', '1989', '1990', '1991', '1992', '1993', '1994', '1995',\n",
              "       '1996', '1997', '1998', '1999', '2000', '2001', '2002', '2003', '2004',\n",
              "       '2005', '2006', '2007', '2008', '2009', '2010', '2011', '2012', '2013',\n",
              "       '2014', '2015', '2016', '2017', '2018', '2019', '2020', '2021'],\n",
              "      dtype='object')"
            ]
          },
          "metadata": {},
          "execution_count": 6
        }
      ],
      "source": [
        "wb_energy_stats_df.columns"
      ]
    },
    {
      "cell_type": "code",
      "execution_count": 7,
      "id": "fd035875",
      "metadata": {
        "id": "fd035875"
      },
      "outputs": [],
      "source": [
        "wb_energy_2020 = wb_energy_stats_df[['Country Name','Country Code','Indicator Name','2020']]"
      ]
    },
    {
      "cell_type": "code",
      "source": [
        ""
      ],
      "metadata": {
        "id": "w0F6ufwtZuNk"
      },
      "id": "w0F6ufwtZuNk",
      "execution_count": null,
      "outputs": []
    }
  ],
  "metadata": {
    "kernelspec": {
      "display_name": "Python 3 (ipykernel)",
      "language": "python",
      "name": "python3"
    },
    "language_info": {
      "codemirror_mode": {
        "name": "ipython",
        "version": 3
      },
      "file_extension": ".py",
      "mimetype": "text/x-python",
      "name": "python",
      "nbconvert_exporter": "python",
      "pygments_lexer": "ipython3",
      "version": "3.9.7"
    },
    "colab": {
      "name": "WB_Energy.ipynb",
      "provenance": []
    }
  },
  "nbformat": 4,
  "nbformat_minor": 5
}